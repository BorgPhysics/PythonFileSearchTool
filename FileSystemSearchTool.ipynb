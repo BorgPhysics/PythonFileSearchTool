{
 "cells": [
  {
   "cell_type": "code",
   "execution_count": 1,
   "metadata": {},
   "outputs": [],
   "source": [
    "# FROM: https://www.pythoncentral.io/series/python-recursive-file-and-directory-manipulation/\n",
    "# https://tutorials.technology/tutorials/93-Python-recursive-file-search.html\n",
    "# https://www.pythoncentral.io/recursive-file-and-directory-manipulation-in-python-part-1/\n",
    "# https://www.pythoncentral.io/recursive-file-and-directory-manipulation-in-python-part-2/\n",
    "# https://www.pythoncentral.io/recursive-file-and-directory-manipulation-in-python-part-3/\n",
    "# https://www.pythoncentral.io/how-to-traverse-a-directory-tree-in-python-guide-to-os-walk/\n",
    "# https://www.pythoncentral.io/recursive-python-function-example-make-list-movies/\n",
    "import os\n",
    "from os import walk\n",
    "from os import listdir\n",
    "from os.path import isfile, join\n",
    "from shutil import move, copy2\n",
    "import sys"
   ]
  },
  {
   "cell_type": "code",
   "execution_count": 2,
   "metadata": {},
   "outputs": [],
   "source": [
    "acceptableExtensions=('txt', 'xml')\n",
    "def fileContainsText(fullFilename, fileText):\n",
    "#     print(\"Checking \" + fullFilename + \" for text \" + fileText)\n",
    "    try:\n",
    "        if fileText is None or fileText in open(fullFilename).read():\n",
    "            return True\n",
    "    except:\n",
    "        print(\"Failed to read \" + fullFilename.rsplit('\\\\', 1)[-1] + \" for text \" + fileText)\n",
    "    \n",
    "    return False\n",
    "    \n",
    "def filenameContains(filename, substring):\n",
    "    if substring is None:\n",
    "        return True\n",
    "    # https://stackoverflow.com/questions/45637600/using-endswith-with-case-insensivity-in-python/45637618\n",
    "    return substring.lower() in filename.lower()\n",
    "    \n",
    "def hasExtension(filename, extension):\n",
    "    if extension is None:\n",
    "        return True\n",
    "    # https://stackoverflow.com/questions/45637600/using-endswith-with-case-insensivity-in-python/45637618\n",
    "    return filename.lower().endswith(extension.lower())\n",
    "\n",
    "def list_all_directories(root_dir):\n",
    "    for dirpath, dirnames, files in os.walk(root_dir):\n",
    "        for name in dirnames:\n",
    "            print(os.path.join(dirpath, name))"
   ]
  },
  {
   "cell_type": "code",
   "execution_count": 3,
   "metadata": {},
   "outputs": [],
   "source": [
    "def complex_search(root_dir=os.getcwd(), name_substring=None, extension=None, text_in_file=None, \n",
    "                   return_partial_dir_name=True, recurse=True):\n",
    "    # TODO - Check for name_substring, extensions, and/or text_in_file to filter results\n",
    "    # Return filenames, location of hit\n",
    "    filenames=[]\n",
    "    locations=[]\n",
    "    count=0\n",
    "    origDirStringLength=0\n",
    "    if return_partial_dir_name:\n",
    "        origDirStringLength=len(root_dir)\n",
    "#         print('origDirStringLength', origDirStringLength)\n",
    "\n",
    "    if recurse:    \n",
    "        for directoryName, subdirList, fileList in os.walk(root_dir, topdown=True):\n",
    "            dirName=directoryName[origDirStringLength:]\n",
    "    #         print('Found directory: %s' % dirName)\n",
    "            for fname in fileList:\n",
    "                fullFilename = directoryName+'\\\\'+fname\n",
    "                if hasExtension(fname, extension) and filenameContains(fname, name_substring) and fileContainsText(fullFilename, text_in_file):\n",
    "                    count += 1\n",
    "                    filenames.append(fullFilename)\n",
    "#                     print('\\t%s' % fname)\n",
    "    else:\n",
    "        # Just get the list of files in root_dir\n",
    "        dirName=root_dir[origDirStringLength:]\n",
    "        if(len(dirName)>0):\n",
    "            dirName+='\\\\'\n",
    "        for fname in listdir(root_dir):\n",
    "            if isfile(join(root_dir, fname)) and hasExtension(fname, extension) and filenameContains(fname, name_substring) and fileContainsText(dirName+fname, text_in_file):\n",
    "                count += 1\n",
    "                filenames.append(dirName+fname)\n",
    "#         onlyfiles = [f for f in listdir(root_dir) if isfile(join(root_dir, f))]\n",
    "#         print(onlyfiles)\n",
    "    \n",
    "    return filenames, locations, count"
   ]
  },
  {
   "cell_type": "code",
   "execution_count": 4,
   "metadata": {},
   "outputs": [
    {
     "name": "stdout",
     "output_type": "stream",
     "text": [
      "\n",
      "\n",
      "Displaying search results in  C:\\Users\\<User>\\JupyterPrograms\\Test\n",
      "C:\\Users\\<User>\\JupyterPrograms\\Test\\Test1.txt\n",
      "\n",
      "There were 1 files listed.\n"
     ]
    }
   ],
   "source": [
    "directory=str(os.getcwd())\n",
    "# pretty_print_directories(directory)\n",
    "# filenames, locations, count = complex_search(directory, extension='txt', recurse=False)\n",
    "# filenames, locations, count = complex_search(directory, recurse=False)\n",
    "# filenames, locations, count = complex_search(directory, name_substring='editor', recurse=True)\n",
    "# filenames, locations, count = complex_search(directory, text_in_file='<style>', recurse=True)\n",
    "filenames, locations, count = complex_search(directory, text_in_file='searchTest', extension='txt', recurse=True)\n",
    "# filenames, locations, count = complex_search(directory, extension='txt')\n",
    "print('\\n\\nDisplaying search results in ', directory)\n",
    "for filename in filenames:\n",
    "    print(filename)\n",
    "print('\\nThere were ' + str(count) + ' files listed.')"
   ]
  }
 ],
 "metadata": {
  "kernelspec": {
   "display_name": "Python 3",
   "language": "python",
   "name": "python3"
  },
  "language_info": {
   "codemirror_mode": {
    "name": "ipython",
    "version": 3
   },
   "file_extension": ".py",
   "mimetype": "text/x-python",
   "name": "python",
   "nbconvert_exporter": "python",
   "pygments_lexer": "ipython3",
   "version": "3.7.1"
  }
 },
 "nbformat": 4,
 "nbformat_minor": 2
}
